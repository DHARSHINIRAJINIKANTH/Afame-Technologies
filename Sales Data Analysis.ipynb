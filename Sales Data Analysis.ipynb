{
 "cells": [
  {
   "cell_type": "markdown",
   "id": "f22217bb",
   "metadata": {},
   "source": [
    "# Sales Data Analysis Project "
   ]
  },
  {
   "cell_type": "markdown",
   "id": "643ee957",
   "metadata": {},
   "source": [
    "### Importing the dataset"
   ]
  },
  {
   "cell_type": "code",
   "execution_count": 109,
   "id": "1ad5f88f",
   "metadata": {},
   "outputs": [],
   "source": [
    "import pandas as pd\n",
    "data = pd.read_excel('Sales_data.xlsx')\n"
   ]
  },
  {
   "cell_type": "code",
   "execution_count": 110,
   "id": "fd9a8fbe",
   "metadata": {},
   "outputs": [
    {
     "name": "stdout",
     "output_type": "stream",
     "text": [
      "<class 'pandas.core.frame.DataFrame'>\n",
      "RangeIndex: 51290 entries, 0 to 51289\n",
      "Data columns (total 24 columns):\n",
      " #   Column          Non-Null Count  Dtype         \n",
      "---  ------          --------------  -----         \n",
      " 0   Row ID          51290 non-null  int64         \n",
      " 1   Order ID        51290 non-null  object        \n",
      " 2   Order Date      51290 non-null  datetime64[ns]\n",
      " 3   Ship Date       51290 non-null  datetime64[ns]\n",
      " 4   Ship Mode       51290 non-null  object        \n",
      " 5   Customer ID     51290 non-null  object        \n",
      " 6   Customer Name   51290 non-null  object        \n",
      " 7   Segment         51290 non-null  object        \n",
      " 8   City            51290 non-null  object        \n",
      " 9   State           51290 non-null  object        \n",
      " 10  Country         51290 non-null  object        \n",
      " 11  Postal Code     9994 non-null   float64       \n",
      " 12  Market          51290 non-null  object        \n",
      " 13  Region          51290 non-null  object        \n",
      " 14  Product ID      51290 non-null  object        \n",
      " 15  Category        51290 non-null  object        \n",
      " 16  Sub-Category    51290 non-null  object        \n",
      " 17  Product Name    51290 non-null  object        \n",
      " 18  Sales           51290 non-null  float64       \n",
      " 19  Quantity        51290 non-null  int64         \n",
      " 20  Discount        51290 non-null  float64       \n",
      " 21  Profit          51290 non-null  float64       \n",
      " 22  Shipping Cost   51290 non-null  float64       \n",
      " 23  Order Priority  51290 non-null  object        \n",
      "dtypes: datetime64[ns](2), float64(5), int64(2), object(15)\n",
      "memory usage: 9.4+ MB\n"
     ]
    }
   ],
   "source": [
    "data.info()"
   ]
  },
  {
   "cell_type": "code",
   "execution_count": 111,
   "id": "da51ec39",
   "metadata": {},
   "outputs": [
    {
     "data": {
      "text/html": [
       "<div>\n",
       "<style scoped>\n",
       "    .dataframe tbody tr th:only-of-type {\n",
       "        vertical-align: middle;\n",
       "    }\n",
       "\n",
       "    .dataframe tbody tr th {\n",
       "        vertical-align: top;\n",
       "    }\n",
       "\n",
       "    .dataframe thead th {\n",
       "        text-align: right;\n",
       "    }\n",
       "</style>\n",
       "<table border=\"1\" class=\"dataframe\">\n",
       "  <thead>\n",
       "    <tr style=\"text-align: right;\">\n",
       "      <th></th>\n",
       "      <th>Row ID</th>\n",
       "      <th>Postal Code</th>\n",
       "      <th>Sales</th>\n",
       "      <th>Quantity</th>\n",
       "      <th>Discount</th>\n",
       "      <th>Profit</th>\n",
       "      <th>Shipping Cost</th>\n",
       "    </tr>\n",
       "  </thead>\n",
       "  <tbody>\n",
       "    <tr>\n",
       "      <th>count</th>\n",
       "      <td>51290.00</td>\n",
       "      <td>9994.00</td>\n",
       "      <td>51290.00</td>\n",
       "      <td>51290.00</td>\n",
       "      <td>51290.00</td>\n",
       "      <td>51290.00</td>\n",
       "      <td>51290.00</td>\n",
       "    </tr>\n",
       "    <tr>\n",
       "      <th>mean</th>\n",
       "      <td>25645.50</td>\n",
       "      <td>55190.38</td>\n",
       "      <td>246.49</td>\n",
       "      <td>3.48</td>\n",
       "      <td>0.14</td>\n",
       "      <td>28.61</td>\n",
       "      <td>26.38</td>\n",
       "    </tr>\n",
       "    <tr>\n",
       "      <th>std</th>\n",
       "      <td>14806.29</td>\n",
       "      <td>32063.69</td>\n",
       "      <td>487.57</td>\n",
       "      <td>2.28</td>\n",
       "      <td>0.21</td>\n",
       "      <td>174.34</td>\n",
       "      <td>57.30</td>\n",
       "    </tr>\n",
       "    <tr>\n",
       "      <th>min</th>\n",
       "      <td>1.00</td>\n",
       "      <td>1040.00</td>\n",
       "      <td>0.44</td>\n",
       "      <td>1.00</td>\n",
       "      <td>0.00</td>\n",
       "      <td>-6599.98</td>\n",
       "      <td>0.00</td>\n",
       "    </tr>\n",
       "    <tr>\n",
       "      <th>25%</th>\n",
       "      <td>12823.25</td>\n",
       "      <td>23223.00</td>\n",
       "      <td>30.76</td>\n",
       "      <td>2.00</td>\n",
       "      <td>0.00</td>\n",
       "      <td>0.00</td>\n",
       "      <td>2.61</td>\n",
       "    </tr>\n",
       "    <tr>\n",
       "      <th>50%</th>\n",
       "      <td>25645.50</td>\n",
       "      <td>56430.50</td>\n",
       "      <td>85.05</td>\n",
       "      <td>3.00</td>\n",
       "      <td>0.00</td>\n",
       "      <td>9.24</td>\n",
       "      <td>7.79</td>\n",
       "    </tr>\n",
       "    <tr>\n",
       "      <th>75%</th>\n",
       "      <td>38467.75</td>\n",
       "      <td>90008.00</td>\n",
       "      <td>251.05</td>\n",
       "      <td>5.00</td>\n",
       "      <td>0.20</td>\n",
       "      <td>36.81</td>\n",
       "      <td>24.45</td>\n",
       "    </tr>\n",
       "    <tr>\n",
       "      <th>max</th>\n",
       "      <td>51290.00</td>\n",
       "      <td>99301.00</td>\n",
       "      <td>22638.48</td>\n",
       "      <td>14.00</td>\n",
       "      <td>0.85</td>\n",
       "      <td>8399.98</td>\n",
       "      <td>933.57</td>\n",
       "    </tr>\n",
       "  </tbody>\n",
       "</table>\n",
       "</div>"
      ],
      "text/plain": [
       "        Row ID  Postal Code    Sales  Quantity  Discount   Profit  \\\n",
       "count 51290.00      9994.00 51290.00  51290.00  51290.00 51290.00   \n",
       "mean  25645.50     55190.38   246.49      3.48      0.14    28.61   \n",
       "std   14806.29     32063.69   487.57      2.28      0.21   174.34   \n",
       "min       1.00      1040.00     0.44      1.00      0.00 -6599.98   \n",
       "25%   12823.25     23223.00    30.76      2.00      0.00     0.00   \n",
       "50%   25645.50     56430.50    85.05      3.00      0.00     9.24   \n",
       "75%   38467.75     90008.00   251.05      5.00      0.20    36.81   \n",
       "max   51290.00     99301.00 22638.48     14.00      0.85  8399.98   \n",
       "\n",
       "       Shipping Cost  \n",
       "count       51290.00  \n",
       "mean           26.38  \n",
       "std            57.30  \n",
       "min             0.00  \n",
       "25%             2.61  \n",
       "50%             7.79  \n",
       "75%            24.45  \n",
       "max           933.57  "
      ]
     },
     "execution_count": 111,
     "metadata": {},
     "output_type": "execute_result"
    }
   ],
   "source": [
    "data.describe()"
   ]
  },
  {
   "cell_type": "markdown",
   "id": "bae51559",
   "metadata": {},
   "source": [
    "### Cleaning the Dataset"
   ]
  },
  {
   "cell_type": "code",
   "execution_count": 112,
   "id": "3072cf8d",
   "metadata": {},
   "outputs": [],
   "source": [
    "data['Postal Code'] = data['Postal Code'].astype('object')\n",
    "data['Order ID'] = data['Order ID'].astype('object')\n",
    "data['Customer ID'] = data['Customer ID'].astype('object')\n"
   ]
  },
  {
   "cell_type": "code",
   "execution_count": 113,
   "id": "e77af240",
   "metadata": {},
   "outputs": [
    {
     "name": "stdout",
     "output_type": "stream",
     "text": [
      "<class 'pandas.core.frame.DataFrame'>\n",
      "RangeIndex: 51290 entries, 0 to 51289\n",
      "Data columns (total 24 columns):\n",
      " #   Column          Non-Null Count  Dtype         \n",
      "---  ------          --------------  -----         \n",
      " 0   Row ID          51290 non-null  int64         \n",
      " 1   Order ID        51290 non-null  object        \n",
      " 2   Order Date      51290 non-null  datetime64[ns]\n",
      " 3   Ship Date       51290 non-null  datetime64[ns]\n",
      " 4   Ship Mode       51290 non-null  object        \n",
      " 5   Customer ID     51290 non-null  object        \n",
      " 6   Customer Name   51290 non-null  object        \n",
      " 7   Segment         51290 non-null  object        \n",
      " 8   City            51290 non-null  object        \n",
      " 9   State           51290 non-null  object        \n",
      " 10  Country         51290 non-null  object        \n",
      " 11  Postal Code     9994 non-null   object        \n",
      " 12  Market          51290 non-null  object        \n",
      " 13  Region          51290 non-null  object        \n",
      " 14  Product ID      51290 non-null  object        \n",
      " 15  Category        51290 non-null  object        \n",
      " 16  Sub-Category    51290 non-null  object        \n",
      " 17  Product Name    51290 non-null  object        \n",
      " 18  Sales           51290 non-null  float64       \n",
      " 19  Quantity        51290 non-null  int64         \n",
      " 20  Discount        51290 non-null  float64       \n",
      " 21  Profit          51290 non-null  float64       \n",
      " 22  Shipping Cost   51290 non-null  float64       \n",
      " 23  Order Priority  51290 non-null  object        \n",
      "dtypes: datetime64[ns](2), float64(4), int64(2), object(16)\n",
      "memory usage: 9.4+ MB\n"
     ]
    }
   ],
   "source": [
    "data.info()"
   ]
  },
  {
   "cell_type": "code",
   "execution_count": 114,
   "id": "8048930c",
   "metadata": {},
   "outputs": [],
   "source": [
    "data.drop_duplicates(inplace=True)"
   ]
  },
  {
   "cell_type": "code",
   "execution_count": 116,
   "id": "1a50c34e",
   "metadata": {},
   "outputs": [
    {
     "name": "stdout",
     "output_type": "stream",
     "text": [
      "<class 'pandas.core.frame.DataFrame'>\n",
      "Int64Index: 51290 entries, 0 to 51289\n",
      "Data columns (total 24 columns):\n",
      " #   Column          Non-Null Count  Dtype         \n",
      "---  ------          --------------  -----         \n",
      " 0   Row ID          51290 non-null  int64         \n",
      " 1   Order ID        51290 non-null  object        \n",
      " 2   Order Date      51290 non-null  datetime64[ns]\n",
      " 3   Ship Date       51290 non-null  datetime64[ns]\n",
      " 4   Ship Mode       51290 non-null  object        \n",
      " 5   Customer ID     51290 non-null  object        \n",
      " 6   Customer Name   51290 non-null  object        \n",
      " 7   Segment         51290 non-null  object        \n",
      " 8   City            51290 non-null  object        \n",
      " 9   State           51290 non-null  object        \n",
      " 10  Country         51290 non-null  object        \n",
      " 11  Postal Code     9994 non-null   object        \n",
      " 12  Market          51290 non-null  object        \n",
      " 13  Region          51290 non-null  object        \n",
      " 14  Product ID      51290 non-null  object        \n",
      " 15  Category        51290 non-null  object        \n",
      " 16  Sub-Category    51290 non-null  object        \n",
      " 17  Product Name    51290 non-null  object        \n",
      " 18  Sales           51290 non-null  float64       \n",
      " 19  Quantity        51290 non-null  int64         \n",
      " 20  Discount        51290 non-null  float64       \n",
      " 21  Profit          51290 non-null  float64       \n",
      " 22  Shipping Cost   51290 non-null  float64       \n",
      " 23  Order Priority  51290 non-null  object        \n",
      "dtypes: datetime64[ns](2), float64(4), int64(2), object(16)\n",
      "memory usage: 9.8+ MB\n"
     ]
    }
   ],
   "source": [
    "data.info()"
   ]
  },
  {
   "cell_type": "code",
   "execution_count": 117,
   "id": "64f59891",
   "metadata": {},
   "outputs": [
    {
     "data": {
      "text/html": [
       "<div>\n",
       "<style scoped>\n",
       "    .dataframe tbody tr th:only-of-type {\n",
       "        vertical-align: middle;\n",
       "    }\n",
       "\n",
       "    .dataframe tbody tr th {\n",
       "        vertical-align: top;\n",
       "    }\n",
       "\n",
       "    .dataframe thead th {\n",
       "        text-align: right;\n",
       "    }\n",
       "</style>\n",
       "<table border=\"1\" class=\"dataframe\">\n",
       "  <thead>\n",
       "    <tr style=\"text-align: right;\">\n",
       "      <th></th>\n",
       "      <th>Row ID</th>\n",
       "      <th>Order ID</th>\n",
       "      <th>Order Date</th>\n",
       "      <th>Ship Date</th>\n",
       "      <th>Ship Mode</th>\n",
       "      <th>Customer ID</th>\n",
       "      <th>Customer Name</th>\n",
       "      <th>Segment</th>\n",
       "      <th>City</th>\n",
       "      <th>State</th>\n",
       "      <th>...</th>\n",
       "      <th>Product ID</th>\n",
       "      <th>Category</th>\n",
       "      <th>Sub-Category</th>\n",
       "      <th>Product Name</th>\n",
       "      <th>Sales</th>\n",
       "      <th>Quantity</th>\n",
       "      <th>Discount</th>\n",
       "      <th>Profit</th>\n",
       "      <th>Shipping Cost</th>\n",
       "      <th>Order Priority</th>\n",
       "    </tr>\n",
       "  </thead>\n",
       "  <tbody>\n",
       "    <tr>\n",
       "      <th>0</th>\n",
       "      <td>32298</td>\n",
       "      <td>CA-2012-124891</td>\n",
       "      <td>2012-07-31</td>\n",
       "      <td>2012-07-31</td>\n",
       "      <td>Same Day</td>\n",
       "      <td>RH-19495</td>\n",
       "      <td>Rick Hansen</td>\n",
       "      <td>Consumer</td>\n",
       "      <td>New York City</td>\n",
       "      <td>New York</td>\n",
       "      <td>...</td>\n",
       "      <td>TEC-AC-10003033</td>\n",
       "      <td>Technology</td>\n",
       "      <td>Accessories</td>\n",
       "      <td>Plantronics CS510 - Over-the-Head monaural Wir...</td>\n",
       "      <td>2309.65</td>\n",
       "      <td>7</td>\n",
       "      <td>0.00</td>\n",
       "      <td>762.18</td>\n",
       "      <td>933.57</td>\n",
       "      <td>Critical</td>\n",
       "    </tr>\n",
       "    <tr>\n",
       "      <th>1</th>\n",
       "      <td>26341</td>\n",
       "      <td>IN-2013-77878</td>\n",
       "      <td>2013-02-05</td>\n",
       "      <td>2013-02-07</td>\n",
       "      <td>Second Class</td>\n",
       "      <td>JR-16210</td>\n",
       "      <td>Justin Ritter</td>\n",
       "      <td>Corporate</td>\n",
       "      <td>Wollongong</td>\n",
       "      <td>New South Wales</td>\n",
       "      <td>...</td>\n",
       "      <td>FUR-CH-10003950</td>\n",
       "      <td>Furniture</td>\n",
       "      <td>Chairs</td>\n",
       "      <td>Novimex Executive Leather Armchair, Black</td>\n",
       "      <td>3709.39</td>\n",
       "      <td>9</td>\n",
       "      <td>0.10</td>\n",
       "      <td>-288.76</td>\n",
       "      <td>923.63</td>\n",
       "      <td>Critical</td>\n",
       "    </tr>\n",
       "    <tr>\n",
       "      <th>2</th>\n",
       "      <td>25330</td>\n",
       "      <td>IN-2013-71249</td>\n",
       "      <td>2013-10-17</td>\n",
       "      <td>2013-10-18</td>\n",
       "      <td>First Class</td>\n",
       "      <td>CR-12730</td>\n",
       "      <td>Craig Reiter</td>\n",
       "      <td>Consumer</td>\n",
       "      <td>Brisbane</td>\n",
       "      <td>Queensland</td>\n",
       "      <td>...</td>\n",
       "      <td>TEC-PH-10004664</td>\n",
       "      <td>Technology</td>\n",
       "      <td>Phones</td>\n",
       "      <td>Nokia Smart Phone, with Caller ID</td>\n",
       "      <td>5175.17</td>\n",
       "      <td>9</td>\n",
       "      <td>0.10</td>\n",
       "      <td>919.97</td>\n",
       "      <td>915.49</td>\n",
       "      <td>Medium</td>\n",
       "    </tr>\n",
       "    <tr>\n",
       "      <th>3</th>\n",
       "      <td>13524</td>\n",
       "      <td>ES-2013-1579342</td>\n",
       "      <td>2013-01-28</td>\n",
       "      <td>2013-01-30</td>\n",
       "      <td>First Class</td>\n",
       "      <td>KM-16375</td>\n",
       "      <td>Katherine Murray</td>\n",
       "      <td>Home Office</td>\n",
       "      <td>Berlin</td>\n",
       "      <td>Berlin</td>\n",
       "      <td>...</td>\n",
       "      <td>TEC-PH-10004583</td>\n",
       "      <td>Technology</td>\n",
       "      <td>Phones</td>\n",
       "      <td>Motorola Smart Phone, Cordless</td>\n",
       "      <td>2892.51</td>\n",
       "      <td>5</td>\n",
       "      <td>0.10</td>\n",
       "      <td>-96.54</td>\n",
       "      <td>910.16</td>\n",
       "      <td>Medium</td>\n",
       "    </tr>\n",
       "    <tr>\n",
       "      <th>4</th>\n",
       "      <td>47221</td>\n",
       "      <td>SG-2013-4320</td>\n",
       "      <td>2013-11-05</td>\n",
       "      <td>2013-11-06</td>\n",
       "      <td>Same Day</td>\n",
       "      <td>RH-9495</td>\n",
       "      <td>Rick Hansen</td>\n",
       "      <td>Consumer</td>\n",
       "      <td>Dakar</td>\n",
       "      <td>Dakar</td>\n",
       "      <td>...</td>\n",
       "      <td>TEC-SHA-10000501</td>\n",
       "      <td>Technology</td>\n",
       "      <td>Copiers</td>\n",
       "      <td>Sharp Wireless Fax, High-Speed</td>\n",
       "      <td>2832.96</td>\n",
       "      <td>8</td>\n",
       "      <td>0.00</td>\n",
       "      <td>311.52</td>\n",
       "      <td>903.04</td>\n",
       "      <td>Critical</td>\n",
       "    </tr>\n",
       "  </tbody>\n",
       "</table>\n",
       "<p>5 rows × 24 columns</p>\n",
       "</div>"
      ],
      "text/plain": [
       "   Row ID         Order ID Order Date  Ship Date     Ship Mode Customer ID  \\\n",
       "0   32298   CA-2012-124891 2012-07-31 2012-07-31      Same Day    RH-19495   \n",
       "1   26341    IN-2013-77878 2013-02-05 2013-02-07  Second Class    JR-16210   \n",
       "2   25330    IN-2013-71249 2013-10-17 2013-10-18   First Class    CR-12730   \n",
       "3   13524  ES-2013-1579342 2013-01-28 2013-01-30   First Class    KM-16375   \n",
       "4   47221     SG-2013-4320 2013-11-05 2013-11-06      Same Day     RH-9495   \n",
       "\n",
       "      Customer Name      Segment           City            State  ...  \\\n",
       "0       Rick Hansen     Consumer  New York City         New York  ...   \n",
       "1     Justin Ritter    Corporate     Wollongong  New South Wales  ...   \n",
       "2      Craig Reiter     Consumer       Brisbane       Queensland  ...   \n",
       "3  Katherine Murray  Home Office         Berlin           Berlin  ...   \n",
       "4       Rick Hansen     Consumer          Dakar            Dakar  ...   \n",
       "\n",
       "         Product ID    Category Sub-Category  \\\n",
       "0   TEC-AC-10003033  Technology  Accessories   \n",
       "1   FUR-CH-10003950   Furniture       Chairs   \n",
       "2   TEC-PH-10004664  Technology       Phones   \n",
       "3   TEC-PH-10004583  Technology       Phones   \n",
       "4  TEC-SHA-10000501  Technology      Copiers   \n",
       "\n",
       "                                        Product Name   Sales Quantity  \\\n",
       "0  Plantronics CS510 - Over-the-Head monaural Wir... 2309.65        7   \n",
       "1          Novimex Executive Leather Armchair, Black 3709.39        9   \n",
       "2                  Nokia Smart Phone, with Caller ID 5175.17        9   \n",
       "3                     Motorola Smart Phone, Cordless 2892.51        5   \n",
       "4                     Sharp Wireless Fax, High-Speed 2832.96        8   \n",
       "\n",
       "  Discount  Profit  Shipping Cost  Order Priority  \n",
       "0     0.00  762.18         933.57        Critical  \n",
       "1     0.10 -288.76         923.63        Critical  \n",
       "2     0.10  919.97         915.49          Medium  \n",
       "3     0.10  -96.54         910.16          Medium  \n",
       "4     0.00  311.52         903.04        Critical  \n",
       "\n",
       "[5 rows x 24 columns]"
      ]
     },
     "execution_count": 117,
     "metadata": {},
     "output_type": "execute_result"
    }
   ],
   "source": [
    "data.head()"
   ]
  },
  {
   "cell_type": "markdown",
   "id": "64f59efe",
   "metadata": {},
   "source": [
    "### Data Preparation"
   ]
  },
  {
   "cell_type": "code",
   "execution_count": 118,
   "id": "afbfd36d",
   "metadata": {},
   "outputs": [],
   "source": [
    "total_sales = data['Sales'].sum()\n",
    "average_sales = data['Sales'].mean()\n",
    "\n",
    "data['month_year'] = data['Order Date'].dt.to_period('M')\n",
    "monthly_sales = data.groupby('month_year')['Sales'].sum()\n"
   ]
  },
  {
   "cell_type": "code",
   "execution_count": 119,
   "id": "4556861f",
   "metadata": {},
   "outputs": [
    {
     "data": {
      "text/html": [
       "<div>\n",
       "<style scoped>\n",
       "    .dataframe tbody tr th:only-of-type {\n",
       "        vertical-align: middle;\n",
       "    }\n",
       "\n",
       "    .dataframe tbody tr th {\n",
       "        vertical-align: top;\n",
       "    }\n",
       "\n",
       "    .dataframe thead th {\n",
       "        text-align: right;\n",
       "    }\n",
       "</style>\n",
       "<table border=\"1\" class=\"dataframe\">\n",
       "  <thead>\n",
       "    <tr style=\"text-align: right;\">\n",
       "      <th></th>\n",
       "      <th>Row ID</th>\n",
       "      <th>Order ID</th>\n",
       "      <th>Order Date</th>\n",
       "      <th>Ship Date</th>\n",
       "      <th>Ship Mode</th>\n",
       "      <th>Customer ID</th>\n",
       "      <th>Customer Name</th>\n",
       "      <th>Segment</th>\n",
       "      <th>City</th>\n",
       "      <th>State</th>\n",
       "      <th>...</th>\n",
       "      <th>Category</th>\n",
       "      <th>Sub-Category</th>\n",
       "      <th>Product Name</th>\n",
       "      <th>Sales</th>\n",
       "      <th>Quantity</th>\n",
       "      <th>Discount</th>\n",
       "      <th>Profit</th>\n",
       "      <th>Shipping Cost</th>\n",
       "      <th>Order Priority</th>\n",
       "      <th>month_year</th>\n",
       "    </tr>\n",
       "  </thead>\n",
       "  <tbody>\n",
       "    <tr>\n",
       "      <th>0</th>\n",
       "      <td>32298</td>\n",
       "      <td>CA-2012-124891</td>\n",
       "      <td>2012-07-31</td>\n",
       "      <td>2012-07-31</td>\n",
       "      <td>Same Day</td>\n",
       "      <td>RH-19495</td>\n",
       "      <td>Rick Hansen</td>\n",
       "      <td>Consumer</td>\n",
       "      <td>New York City</td>\n",
       "      <td>New York</td>\n",
       "      <td>...</td>\n",
       "      <td>Technology</td>\n",
       "      <td>Accessories</td>\n",
       "      <td>Plantronics CS510 - Over-the-Head monaural Wir...</td>\n",
       "      <td>2309.65</td>\n",
       "      <td>7</td>\n",
       "      <td>0.00</td>\n",
       "      <td>762.18</td>\n",
       "      <td>933.57</td>\n",
       "      <td>Critical</td>\n",
       "      <td>2012-07</td>\n",
       "    </tr>\n",
       "    <tr>\n",
       "      <th>1</th>\n",
       "      <td>26341</td>\n",
       "      <td>IN-2013-77878</td>\n",
       "      <td>2013-02-05</td>\n",
       "      <td>2013-02-07</td>\n",
       "      <td>Second Class</td>\n",
       "      <td>JR-16210</td>\n",
       "      <td>Justin Ritter</td>\n",
       "      <td>Corporate</td>\n",
       "      <td>Wollongong</td>\n",
       "      <td>New South Wales</td>\n",
       "      <td>...</td>\n",
       "      <td>Furniture</td>\n",
       "      <td>Chairs</td>\n",
       "      <td>Novimex Executive Leather Armchair, Black</td>\n",
       "      <td>3709.39</td>\n",
       "      <td>9</td>\n",
       "      <td>0.10</td>\n",
       "      <td>-288.76</td>\n",
       "      <td>923.63</td>\n",
       "      <td>Critical</td>\n",
       "      <td>2013-02</td>\n",
       "    </tr>\n",
       "    <tr>\n",
       "      <th>2</th>\n",
       "      <td>25330</td>\n",
       "      <td>IN-2013-71249</td>\n",
       "      <td>2013-10-17</td>\n",
       "      <td>2013-10-18</td>\n",
       "      <td>First Class</td>\n",
       "      <td>CR-12730</td>\n",
       "      <td>Craig Reiter</td>\n",
       "      <td>Consumer</td>\n",
       "      <td>Brisbane</td>\n",
       "      <td>Queensland</td>\n",
       "      <td>...</td>\n",
       "      <td>Technology</td>\n",
       "      <td>Phones</td>\n",
       "      <td>Nokia Smart Phone, with Caller ID</td>\n",
       "      <td>5175.17</td>\n",
       "      <td>9</td>\n",
       "      <td>0.10</td>\n",
       "      <td>919.97</td>\n",
       "      <td>915.49</td>\n",
       "      <td>Medium</td>\n",
       "      <td>2013-10</td>\n",
       "    </tr>\n",
       "    <tr>\n",
       "      <th>3</th>\n",
       "      <td>13524</td>\n",
       "      <td>ES-2013-1579342</td>\n",
       "      <td>2013-01-28</td>\n",
       "      <td>2013-01-30</td>\n",
       "      <td>First Class</td>\n",
       "      <td>KM-16375</td>\n",
       "      <td>Katherine Murray</td>\n",
       "      <td>Home Office</td>\n",
       "      <td>Berlin</td>\n",
       "      <td>Berlin</td>\n",
       "      <td>...</td>\n",
       "      <td>Technology</td>\n",
       "      <td>Phones</td>\n",
       "      <td>Motorola Smart Phone, Cordless</td>\n",
       "      <td>2892.51</td>\n",
       "      <td>5</td>\n",
       "      <td>0.10</td>\n",
       "      <td>-96.54</td>\n",
       "      <td>910.16</td>\n",
       "      <td>Medium</td>\n",
       "      <td>2013-01</td>\n",
       "    </tr>\n",
       "    <tr>\n",
       "      <th>4</th>\n",
       "      <td>47221</td>\n",
       "      <td>SG-2013-4320</td>\n",
       "      <td>2013-11-05</td>\n",
       "      <td>2013-11-06</td>\n",
       "      <td>Same Day</td>\n",
       "      <td>RH-9495</td>\n",
       "      <td>Rick Hansen</td>\n",
       "      <td>Consumer</td>\n",
       "      <td>Dakar</td>\n",
       "      <td>Dakar</td>\n",
       "      <td>...</td>\n",
       "      <td>Technology</td>\n",
       "      <td>Copiers</td>\n",
       "      <td>Sharp Wireless Fax, High-Speed</td>\n",
       "      <td>2832.96</td>\n",
       "      <td>8</td>\n",
       "      <td>0.00</td>\n",
       "      <td>311.52</td>\n",
       "      <td>903.04</td>\n",
       "      <td>Critical</td>\n",
       "      <td>2013-11</td>\n",
       "    </tr>\n",
       "  </tbody>\n",
       "</table>\n",
       "<p>5 rows × 25 columns</p>\n",
       "</div>"
      ],
      "text/plain": [
       "   Row ID         Order ID Order Date  Ship Date     Ship Mode Customer ID  \\\n",
       "0   32298   CA-2012-124891 2012-07-31 2012-07-31      Same Day    RH-19495   \n",
       "1   26341    IN-2013-77878 2013-02-05 2013-02-07  Second Class    JR-16210   \n",
       "2   25330    IN-2013-71249 2013-10-17 2013-10-18   First Class    CR-12730   \n",
       "3   13524  ES-2013-1579342 2013-01-28 2013-01-30   First Class    KM-16375   \n",
       "4   47221     SG-2013-4320 2013-11-05 2013-11-06      Same Day     RH-9495   \n",
       "\n",
       "      Customer Name      Segment           City            State  ...  \\\n",
       "0       Rick Hansen     Consumer  New York City         New York  ...   \n",
       "1     Justin Ritter    Corporate     Wollongong  New South Wales  ...   \n",
       "2      Craig Reiter     Consumer       Brisbane       Queensland  ...   \n",
       "3  Katherine Murray  Home Office         Berlin           Berlin  ...   \n",
       "4       Rick Hansen     Consumer          Dakar            Dakar  ...   \n",
       "\n",
       "     Category Sub-Category                                       Product Name  \\\n",
       "0  Technology  Accessories  Plantronics CS510 - Over-the-Head monaural Wir...   \n",
       "1   Furniture       Chairs          Novimex Executive Leather Armchair, Black   \n",
       "2  Technology       Phones                  Nokia Smart Phone, with Caller ID   \n",
       "3  Technology       Phones                     Motorola Smart Phone, Cordless   \n",
       "4  Technology      Copiers                     Sharp Wireless Fax, High-Speed   \n",
       "\n",
       "    Sales Quantity Discount  Profit Shipping Cost  Order Priority  month_year  \n",
       "0 2309.65        7     0.00  762.18        933.57        Critical     2012-07  \n",
       "1 3709.39        9     0.10 -288.76        923.63        Critical     2013-02  \n",
       "2 5175.17        9     0.10  919.97        915.49          Medium     2013-10  \n",
       "3 2892.51        5     0.10  -96.54        910.16          Medium     2013-01  \n",
       "4 2832.96        8     0.00  311.52        903.04        Critical     2013-11  \n",
       "\n",
       "[5 rows x 25 columns]"
      ]
     },
     "execution_count": 119,
     "metadata": {},
     "output_type": "execute_result"
    }
   ],
   "source": [
    "data.head()"
   ]
  },
  {
   "cell_type": "code",
   "execution_count": 120,
   "id": "d5e7f4ae",
   "metadata": {},
   "outputs": [
    {
     "data": {
      "text/plain": [
       "month_year\n",
       "2011-01    98898.49\n",
       "2011-02    91152.16\n",
       "2011-03   145729.37\n",
       "2011-04   116915.76\n",
       "2011-05   146747.84\n",
       "2011-06   215207.38\n",
       "2011-07   115510.42\n",
       "2011-08   207581.49\n",
       "2011-09   290214.46\n",
       "2011-10   199071.26\n",
       "2011-11   298496.54\n",
       "2011-12   333925.73\n",
       "2012-01   135780.72\n",
       "2012-02   100510.22\n",
       "2012-03   163076.77\n",
       "2012-04   161052.27\n",
       "2012-05   208364.89\n",
       "2012-06   256175.70\n",
       "2012-07   145236.79\n",
       "2012-08   303142.94\n",
       "2012-09   289389.17\n",
       "2012-10   252939.85\n",
       "2012-11   323512.42\n",
       "2012-12   338256.97\n",
       "2013-01   199185.91\n",
       "2013-02   167239.65\n",
       "2013-03   198594.03\n",
       "2013-04   177821.32\n",
       "2013-05   260498.56\n",
       "2013-06   396519.61\n",
       "2013-07   229928.95\n",
       "2013-08   326488.79\n",
       "2013-09   376619.25\n",
       "2013-10   293406.64\n",
       "2013-11   373989.36\n",
       "2013-12   405454.38\n",
       "2014-01   241268.56\n",
       "2014-02   184837.36\n",
       "2014-03   263100.77\n",
       "2014-04   242771.86\n",
       "2014-05   288401.05\n",
       "2014-06   401814.06\n",
       "2014-07   258705.68\n",
       "2014-08   456619.94\n",
       "2014-09   481157.24\n",
       "2014-10   422766.63\n",
       "2014-11   555279.03\n",
       "2014-12   503143.69\n",
       "Freq: M, Name: Sales, dtype: float64"
      ]
     },
     "execution_count": 120,
     "metadata": {},
     "output_type": "execute_result"
    }
   ],
   "source": [
    "monthly_sales"
   ]
  },
  {
   "cell_type": "markdown",
   "id": "21edaa92",
   "metadata": {},
   "source": [
    "## Data Analysis and visualization"
   ]
  },
  {
   "cell_type": "code",
   "execution_count": 121,
   "id": "55ac774c",
   "metadata": {},
   "outputs": [
    {
     "data": {
      "image/png": "[encoded data removed]",
      "text/plain": [
       "<Figure size 1000x600 with 1 Axes>"
      ]
     },
     "metadata": {},
     "output_type": "display_data"
    }
   ],
   "source": [
    "import matplotlib.pyplot as plt\n",
    "import matplotlib.dates as mdates\n",
    "\n",
    "plt.figure(figsize=(10, 6))\n",
    "plt.plot(monthly_sales.index.to_timestamp(), monthly_sales.values, marker='*',color='teal',markerfacecolor='r')\n",
    "plt.xlabel('\\n Month')\n",
    "plt.xticks(rotation=45)\n",
    "plt.gca().xaxis.set_tick_params(rotation=45)\n",
    "\n",
    "plt.ylabel(' Total Sales')\n",
    "plt.title('Sales Trends Over Time')\n",
    "plt.show()\n"
   ]
  },
  {
   "cell_type": "code",
   "execution_count": 122,
   "id": "708d0624",
   "metadata": {},
   "outputs": [
    {
     "data": {
      "text/plain": [
       "(array([6., 7., 8., 7., 6., 4., 5., 2., 2., 1.]),\n",
       " array([ 91152.15698 , 137564.843982, 183977.530984, 230390.217986,\n",
       "        276802.904988, 323215.59199 , 369628.278992, 416040.965994,\n",
       "        462453.652996, 508866.339998, 555279.027   ]),\n",
       " <BarContainer object of 10 artists>)"
      ]
     },
     "execution_count": 122,
     "metadata": {},
     "output_type": "execute_result"
    },
    {
     "data": {
      "image/png": "[encoded data removed]",
      "text/plain": [
       "<Figure size 640x480 with 1 Axes>"
      ]
     },
     "metadata": {},
     "output_type": "display_data"
    }
   ],
   "source": [
    "plt.hist(monthly_sales.values, bins=10)\n"
   ]
  },
  {
   "cell_type": "code",
   "execution_count": 123,
   "id": "48cd0fca",
   "metadata": {},
   "outputs": [],
   "source": [
    "best_selling_products = data.groupby('Product Name')['Quantity'].sum().nlargest(10)\n"
   ]
  },
  {
   "cell_type": "code",
   "execution_count": 124,
   "id": "9ff44953",
   "metadata": {},
   "outputs": [
    {
     "data": {
      "text/plain": [
       "Product Name\n",
       "Staples                                  876\n",
       "Cardinal Index Tab, Clear                337\n",
       "Eldon File Cart, Single Width            321\n",
       "Rogers File Cart, Single Width           262\n",
       "Sanford Pencil Sharpener, Water Color    259\n",
       "Stockwell Paper Clips, Assorted Sizes    253\n",
       "Avery Index Tab, Clear                   252\n",
       "Ibico Index Tab, Clear                   251\n",
       "Smead File Cart, Single Width            250\n",
       "Stanley Pencil Sharpener, Water Color    242\n",
       "Name: Quantity, dtype: int64"
      ]
     },
     "execution_count": 124,
     "metadata": {},
     "output_type": "execute_result"
    }
   ],
   "source": [
    "best_selling_products"
   ]
  },
  {
   "cell_type": "code",
   "execution_count": 125,
   "id": "19b824cc",
   "metadata": {},
   "outputs": [
    {
     "data": {
      "image/png": "[encoded data removed]",
      "text/plain": [
       "<Figure size 640x480 with 1 Axes>"
      ]
     },
     "metadata": {},
     "output_type": "display_data"
    }
   ],
   "source": [
    "plt.bar(best_selling_products.index,best_selling_products.values)\n",
    "plt.xticks(rotation=90)\n",
    "plt.xlabel('\\n Product Name')\n",
    "plt.ylabel('Total Quantity Sold')\n",
    "plt.title('Top 5 Best-Selling Products')\n",
    "plt.show()"
   ]
  },
  {
   "cell_type": "markdown",
   "id": "ea056ae0",
   "metadata": {},
   "source": [
    "### Calculating Average Sales per Sale"
   ]
  },
  {
   "cell_type": "code",
   "execution_count": 126,
   "id": "4bd1f905",
   "metadata": {},
   "outputs": [],
   "source": [
    "total_revenue = data['Sales'].sum()\n",
    "average_revenue_per_sale = data['Sales'].mean()\n"
   ]
  },
  {
   "cell_type": "code",
   "execution_count": 127,
   "id": "3b91beb4",
   "metadata": {},
   "outputs": [
    {
     "data": {
      "text/plain": [
       "246.49058120257362"
      ]
     },
     "execution_count": 127,
     "metadata": {},
     "output_type": "execute_result"
    }
   ],
   "source": [
    "average_revenue_per_sale"
   ]
  },
  {
   "cell_type": "code",
   "execution_count": 128,
   "id": "481532e5",
   "metadata": {},
   "outputs": [
    {
     "data": {
      "text/plain": [
       "-9.389033438138478"
      ]
     },
     "execution_count": 128,
     "metadata": {},
     "output_type": "execute_result"
    }
   ],
   "source": [
    "revenue_growth_rate = ((monthly_sales[-1] - monthly_sales[-2]) / monthly_sales[-2]) * 100\n",
    "revenue_growth_rate"
   ]
  },
  {
   "cell_type": "markdown",
   "id": "ac991e1d",
   "metadata": {},
   "source": [
    "*The revenue for the current period has decreased by approximately 9.39% compared to the previous period. This decrease may be attributed to various factors such as seasonality, economic conditions, or changes in consumer behavior.*"
   ]
  },
  {
   "cell_type": "code",
   "execution_count": 144,
   "id": "81dba484",
   "metadata": {},
   "outputs": [],
   "source": [
    "sales_by_market = data.groupby('Market')['Sales'].sum().sort_values(ascending=False)\n",
    "sales_by_region = data.groupby('Region')['Sales'].sum().sort_values(ascending=False)\n",
    "sales_by_segment = data.groupby('Segment')['Sales'].sum().sort_values(ascending=False)\n"
   ]
  },
  {
   "cell_type": "code",
   "execution_count": 146,
   "id": "a14079ec",
   "metadata": {},
   "outputs": [
    {
     "name": "stdout",
     "output_type": "stream",
     "text": [
      "Market\n",
      "APAC     3585744.13\n",
      "EU       2938089.06\n",
      "US       2297200.86\n",
      "LATAM    2164605.17\n",
      "EMEA      806161.31\n",
      "Africa    783773.21\n",
      "Canada     66928.17\n",
      "Name: Sales, dtype: float64Region\n",
      "Central          2822302.52\n",
      "South            1600907.04\n",
      "North            1248165.60\n",
      "Oceania          1100184.61\n",
      "Southeast Asia    884423.17\n",
      "North Asia        848309.78\n",
      "EMEA              806161.31\n",
      "Africa            783773.21\n",
      "Central Asia      752826.57\n",
      "West              725457.82\n",
      "East              678781.24\n",
      "Caribbean         324280.86\n",
      "Canada             66928.17\n",
      "Name: Sales, dtype: float64 Segment\n",
      "Consumer      6507949.42\n",
      "Corporate     3824697.52\n",
      "Home Office   2309854.97\n",
      "Name: Sales, dtype: float64\n"
     ]
    }
   ],
   "source": [
    "pd.options.display.float_format = '{:.2f}'.format\n",
    "print(f'{sales_by_market}{sales_by_region} {sales_by_segment}')"
   ]
  },
  {
   "cell_type": "code",
   "execution_count": 131,
   "id": "1a28f843",
   "metadata": {},
   "outputs": [
    {
     "data": {
      "text/html": [
       "<div>\n",
       "<style scoped>\n",
       "    .dataframe tbody tr th:only-of-type {\n",
       "        vertical-align: middle;\n",
       "    }\n",
       "\n",
       "    .dataframe tbody tr th {\n",
       "        vertical-align: top;\n",
       "    }\n",
       "\n",
       "    .dataframe thead th {\n",
       "        text-align: right;\n",
       "    }\n",
       "</style>\n",
       "<table border=\"1\" class=\"dataframe\">\n",
       "  <thead>\n",
       "    <tr style=\"text-align: right;\">\n",
       "      <th></th>\n",
       "      <th>Row ID</th>\n",
       "      <th>Order ID</th>\n",
       "      <th>Order Date</th>\n",
       "      <th>Ship Date</th>\n",
       "      <th>Ship Mode</th>\n",
       "      <th>Customer ID</th>\n",
       "      <th>Customer Name</th>\n",
       "      <th>Segment</th>\n",
       "      <th>City</th>\n",
       "      <th>State</th>\n",
       "      <th>...</th>\n",
       "      <th>Sub-Category</th>\n",
       "      <th>Product Name</th>\n",
       "      <th>Sales</th>\n",
       "      <th>Quantity</th>\n",
       "      <th>Discount</th>\n",
       "      <th>Profit</th>\n",
       "      <th>Shipping Cost</th>\n",
       "      <th>Order Priority</th>\n",
       "      <th>month_year</th>\n",
       "      <th>Profit Margin</th>\n",
       "    </tr>\n",
       "  </thead>\n",
       "  <tbody>\n",
       "    <tr>\n",
       "      <th>0</th>\n",
       "      <td>32298</td>\n",
       "      <td>CA-2012-124891</td>\n",
       "      <td>2012-07-31</td>\n",
       "      <td>2012-07-31</td>\n",
       "      <td>Same Day</td>\n",
       "      <td>RH-19495</td>\n",
       "      <td>Rick Hansen</td>\n",
       "      <td>Consumer</td>\n",
       "      <td>New York City</td>\n",
       "      <td>New York</td>\n",
       "      <td>...</td>\n",
       "      <td>Accessories</td>\n",
       "      <td>Plantronics CS510 - Over-the-Head monaural Wir...</td>\n",
       "      <td>2309.65</td>\n",
       "      <td>7</td>\n",
       "      <td>0.00</td>\n",
       "      <td>762.18</td>\n",
       "      <td>933.57</td>\n",
       "      <td>Critical</td>\n",
       "      <td>2012-07</td>\n",
       "      <td>33.00</td>\n",
       "    </tr>\n",
       "    <tr>\n",
       "      <th>1</th>\n",
       "      <td>26341</td>\n",
       "      <td>IN-2013-77878</td>\n",
       "      <td>2013-02-05</td>\n",
       "      <td>2013-02-07</td>\n",
       "      <td>Second Class</td>\n",
       "      <td>JR-16210</td>\n",
       "      <td>Justin Ritter</td>\n",
       "      <td>Corporate</td>\n",
       "      <td>Wollongong</td>\n",
       "      <td>New South Wales</td>\n",
       "      <td>...</td>\n",
       "      <td>Chairs</td>\n",
       "      <td>Novimex Executive Leather Armchair, Black</td>\n",
       "      <td>3709.39</td>\n",
       "      <td>9</td>\n",
       "      <td>0.10</td>\n",
       "      <td>-288.76</td>\n",
       "      <td>923.63</td>\n",
       "      <td>Critical</td>\n",
       "      <td>2013-02</td>\n",
       "      <td>-7.78</td>\n",
       "    </tr>\n",
       "    <tr>\n",
       "      <th>2</th>\n",
       "      <td>25330</td>\n",
       "      <td>IN-2013-71249</td>\n",
       "      <td>2013-10-17</td>\n",
       "      <td>2013-10-18</td>\n",
       "      <td>First Class</td>\n",
       "      <td>CR-12730</td>\n",
       "      <td>Craig Reiter</td>\n",
       "      <td>Consumer</td>\n",
       "      <td>Brisbane</td>\n",
       "      <td>Queensland</td>\n",
       "      <td>...</td>\n",
       "      <td>Phones</td>\n",
       "      <td>Nokia Smart Phone, with Caller ID</td>\n",
       "      <td>5175.17</td>\n",
       "      <td>9</td>\n",
       "      <td>0.10</td>\n",
       "      <td>919.97</td>\n",
       "      <td>915.49</td>\n",
       "      <td>Medium</td>\n",
       "      <td>2013-10</td>\n",
       "      <td>17.78</td>\n",
       "    </tr>\n",
       "    <tr>\n",
       "      <th>3</th>\n",
       "      <td>13524</td>\n",
       "      <td>ES-2013-1579342</td>\n",
       "      <td>2013-01-28</td>\n",
       "      <td>2013-01-30</td>\n",
       "      <td>First Class</td>\n",
       "      <td>KM-16375</td>\n",
       "      <td>Katherine Murray</td>\n",
       "      <td>Home Office</td>\n",
       "      <td>Berlin</td>\n",
       "      <td>Berlin</td>\n",
       "      <td>...</td>\n",
       "      <td>Phones</td>\n",
       "      <td>Motorola Smart Phone, Cordless</td>\n",
       "      <td>2892.51</td>\n",
       "      <td>5</td>\n",
       "      <td>0.10</td>\n",
       "      <td>-96.54</td>\n",
       "      <td>910.16</td>\n",
       "      <td>Medium</td>\n",
       "      <td>2013-01</td>\n",
       "      <td>-3.34</td>\n",
       "    </tr>\n",
       "    <tr>\n",
       "      <th>4</th>\n",
       "      <td>47221</td>\n",
       "      <td>SG-2013-4320</td>\n",
       "      <td>2013-11-05</td>\n",
       "      <td>2013-11-06</td>\n",
       "      <td>Same Day</td>\n",
       "      <td>RH-9495</td>\n",
       "      <td>Rick Hansen</td>\n",
       "      <td>Consumer</td>\n",
       "      <td>Dakar</td>\n",
       "      <td>Dakar</td>\n",
       "      <td>...</td>\n",
       "      <td>Copiers</td>\n",
       "      <td>Sharp Wireless Fax, High-Speed</td>\n",
       "      <td>2832.96</td>\n",
       "      <td>8</td>\n",
       "      <td>0.00</td>\n",
       "      <td>311.52</td>\n",
       "      <td>903.04</td>\n",
       "      <td>Critical</td>\n",
       "      <td>2013-11</td>\n",
       "      <td>11.00</td>\n",
       "    </tr>\n",
       "  </tbody>\n",
       "</table>\n",
       "<p>5 rows × 26 columns</p>\n",
       "</div>"
      ],
      "text/plain": [
       "   Row ID         Order ID Order Date  Ship Date     Ship Mode Customer ID  \\\n",
       "0   32298   CA-2012-124891 2012-07-31 2012-07-31      Same Day    RH-19495   \n",
       "1   26341    IN-2013-77878 2013-02-05 2013-02-07  Second Class    JR-16210   \n",
       "2   25330    IN-2013-71249 2013-10-17 2013-10-18   First Class    CR-12730   \n",
       "3   13524  ES-2013-1579342 2013-01-28 2013-01-30   First Class    KM-16375   \n",
       "4   47221     SG-2013-4320 2013-11-05 2013-11-06      Same Day     RH-9495   \n",
       "\n",
       "      Customer Name      Segment           City            State  ...  \\\n",
       "0       Rick Hansen     Consumer  New York City         New York  ...   \n",
       "1     Justin Ritter    Corporate     Wollongong  New South Wales  ...   \n",
       "2      Craig Reiter     Consumer       Brisbane       Queensland  ...   \n",
       "3  Katherine Murray  Home Office         Berlin           Berlin  ...   \n",
       "4       Rick Hansen     Consumer          Dakar            Dakar  ...   \n",
       "\n",
       "  Sub-Category                                       Product Name   Sales  \\\n",
       "0  Accessories  Plantronics CS510 - Over-the-Head monaural Wir... 2309.65   \n",
       "1       Chairs          Novimex Executive Leather Armchair, Black 3709.39   \n",
       "2       Phones                  Nokia Smart Phone, with Caller ID 5175.17   \n",
       "3       Phones                     Motorola Smart Phone, Cordless 2892.51   \n",
       "4      Copiers                     Sharp Wireless Fax, High-Speed 2832.96   \n",
       "\n",
       "  Quantity Discount  Profit Shipping Cost Order Priority  month_year  \\\n",
       "0        7     0.00  762.18        933.57       Critical     2012-07   \n",
       "1        9     0.10 -288.76        923.63       Critical     2013-02   \n",
       "2        9     0.10  919.97        915.49         Medium     2013-10   \n",
       "3        5     0.10  -96.54        910.16         Medium     2013-01   \n",
       "4        8     0.00  311.52        903.04       Critical     2013-11   \n",
       "\n",
       "   Profit Margin  \n",
       "0          33.00  \n",
       "1          -7.78  \n",
       "2          17.78  \n",
       "3          -3.34  \n",
       "4          11.00  \n",
       "\n",
       "[5 rows x 26 columns]"
      ]
     },
     "execution_count": 131,
     "metadata": {},
     "output_type": "execute_result"
    }
   ],
   "source": [
    "data['Profit Margin'] = (data['Profit'] / data['Sales']) * 100\n",
    "data.head()"
   ]
  },
  {
   "cell_type": "code",
   "execution_count": 132,
   "id": "a094a5b7",
   "metadata": {},
   "outputs": [],
   "source": [
    "data.to_excel('sales_data_updated.xlsx', index=False)\n"
   ]
  },
  {
   "cell_type": "code",
   "execution_count": 133,
   "id": "7af6479c",
   "metadata": {},
   "outputs": [
    {
     "name": "stdout",
     "output_type": "stream",
     "text": [
      "                                           Product Name  Profit Margin\n",
      "0     \"While you Were Out\" Message Book, One Form pe...          41.18\n",
      "1              #10 Gummed Flap White Envelopes, 100/Box          40.60\n",
      "2                         #10 Self-Seal White Envelopes          47.96\n",
      "3            #10 White Business Envelopes,4 1/8 x 9 1/2          45.64\n",
      "4               #10- 4 1/8\" x 9 1/2\" Recycled Envelopes          40.21\n",
      "...                                                 ...            ...\n",
      "3783  iKross Bluetooth Portable Keyboard + Cell Phon...          24.21\n",
      "3784                         iOttie HLCRIO102 Car Mount          -5.56\n",
      "3785                                iOttie XL Car Mount         -22.50\n",
      "3786  invisibleSHIELD by ZAGG Smudge-Free Screen Pro...          38.70\n",
      "3787                 netTALK DUO VoIP Telephone Service          38.68\n",
      "\n",
      "[3788 rows x 2 columns]\n"
     ]
    }
   ],
   "source": [
    "product_profit_sales = data.groupby('Product Name')[['Profit', 'Sales']].sum().reset_index()\n",
    "\n",
    "product_profit_sales['Profit Margin'] = (product_profit_sales['Profit'] / product_profit_sales['Sales']) * 100\n",
    "\n",
    "print(product_profit_sales[['Product Name', 'Profit Margin']])\n"
   ]
  },
  {
   "cell_type": "code",
   "execution_count": 134,
   "id": "01015f38",
   "metadata": {},
   "outputs": [
    {
     "name": "stdout",
     "output_type": "stream",
     "text": [
      "                                           Product Name  Profit Margin\n",
      "1368  Eureka Disposable Bags for Sanitaire Vibra Gro...        -275.00\n",
      "930        Chromcraft Training Table, Adjustable Height        -230.01\n",
      "803   Bush Westfield Collection Bookcases, Dark Cher...        -210.00\n",
      "1376                   Euro Pro Shark Stick Mini Vacuum        -190.71\n",
      "913            Chromcraft Coffee Table, Fully Assembled        -159.87\n",
      "2649                               Okidata B401 Printer        -140.00\n",
      "3776  Zebra GK420t Direct Thermal/Thermal Transfer P...        -133.33\n",
      "1506                     GBC Plasticlear Binding Covers         -99.33\n",
      "2221                  Lesro Training Table, Rectangular         -95.19\n",
      "756   Brother MFC-9340CDW LED All-In-One Printer, Co...         -93.33\n",
      "1366  Epson TM-T88V Direct Thermal Printer - Monochr...         -87.18\n",
      "1353                Epson Perfection V600 Photo Scanner         -83.33\n",
      "1526            GBC VeloBinder Electric Binding Machine         -82.93\n",
      "1007          Cubify CubeX 3D Printer Double Head Print         -80.00\n",
      "1198  Eldon Executive Woodline II Cherry Finish Desk...         -80.00\n",
      "938                        Cisco 8961 IP Phone Charcoal         -73.33\n",
      "2758                     Plantronics Single Ear Headset         -73.33\n",
      "623           Bevis Training Table, with Bottom Storage         -72.01\n",
      "1783  Hewlett-Packard Deskjet F4180 All-in-One Color...         -70.00\n",
      "2234        Lexmark MarkNet N8150 Wireless Print Server         -70.00\n"
     ]
    }
   ],
   "source": [
    "sorted_product_profit_margin = product_profit_sales.sort_values(by='Profit Margin', ascending=True)\n",
    "\n",
    "print(sorted_product_profit_margin[['Product Name', 'Profit Margin']].head(20))\n"
   ]
  },
  {
   "cell_type": "code",
   "execution_count": 135,
   "id": "1d97482a",
   "metadata": {},
   "outputs": [
    {
     "name": "stdout",
     "output_type": "stream",
     "text": [
      "                                           Product Name  Profit Margin\n",
      "3233                   Southworth Structures Collection          50.00\n",
      "3587                                         Xerox 1890          50.00\n",
      "3457             Tops Green Bar Computer Printout Paper          50.00\n",
      "346                                           Avery 475          50.00\n",
      "867   Canon imageCLASS MF7460 Monochrome Digital Las...          50.00\n",
      "178   Adams Telephone Message Book w/Frequently-Call...          50.00\n",
      "3672                                         Xerox 1969          49.00\n",
      "2823                Rediform S.O.S. Phone Message Books          49.00\n",
      "2740        Personal Creations Ink Jet Cards and Labels          49.00\n",
      "3617                                         Xerox 1918          49.00\n",
      "3692                                         Xerox 1987          49.00\n",
      "373                                             Avery 5          49.00\n",
      "986                    Color-Coded Legal Exhibit Labels          49.00\n",
      "349                                           Avery 478          49.00\n",
      "3630                                          Xerox 193          49.00\n",
      "3358           Strathmore #10 Envelopes, Ultimate White          49.00\n",
      "326                   Ativa V4110MDD Micro-Cut Shredder          49.00\n",
      "1784  Hewlett-Packard Desktjet 6988DT Refurbished Pr...          49.00\n",
      "3689                                         Xerox 1984          49.00\n",
      "3688                                         Xerox 1983          49.00\n"
     ]
    }
   ],
   "source": [
    "sorted_product_profit_margin = product_profit_sales.sort_values(by='Profit Margin', ascending=False)\n",
    "\n",
    "print(sorted_product_profit_margin[['Product Name', 'Profit Margin']].head(20))\n"
   ]
  },
  {
   "cell_type": "code",
   "execution_count": 136,
   "id": "4173278d",
   "metadata": {},
   "outputs": [],
   "source": [
    "average_revenue_customer = data.groupby('Customer Name')['Sales'].mean()"
   ]
  },
  {
   "cell_type": "code",
   "execution_count": 137,
   "id": "26bdb928",
   "metadata": {},
   "outputs": [
    {
     "name": "stdout",
     "output_type": "stream",
     "text": [
      "Customer Name\n",
      "Sean Miller           703.42\n",
      "Hunter Lopez          570.63\n",
      "Tom Ashbrook          506.10\n",
      "Christopher Conant    482.01\n",
      "Mike Gockenbach       458.37\n",
      "                       ...  \n",
      "Allen Armold          118.89\n",
      "Catherine Glotzbach   117.58\n",
      "Erin Creighton        116.06\n",
      "Thais Sissman         113.10\n",
      "Vivian Mathis         108.12\n",
      "Name: Sales, Length: 795, dtype: float64\n"
     ]
    }
   ],
   "source": [
    "sorted_product_profit_margin = average_revenue_customer.sort_values(ascending=False)\n",
    "\n",
    "print(sorted_product_profit_margin)\n"
   ]
  },
  {
   "cell_type": "markdown",
   "id": "171368bf",
   "metadata": {},
   "source": [
    "## Findings"
   ]
  },
  {
   "cell_type": "markdown",
   "id": "87758b3a",
   "metadata": {},
   "source": [
    "* From the Line plot \"Sales Trend Over Time\", it is evident that the Sales increases over time and also we can see that in the beginning of each year there is a exponential decrease in the sales after which a gradual increase takes place. "
   ]
  },
  {
   "cell_type": "markdown",
   "id": "8cb4dad1",
   "metadata": {},
   "source": [
    "* The best selling product is \"Staples\", over 800 units of Staples were sold"
   ]
  },
  {
   "cell_type": "markdown",
   "id": "43f94cf8",
   "metadata": {},
   "source": [
    "* The average revenue per sale is 246.49058120257362\n"
   ]
  },
  {
   "cell_type": "markdown",
   "id": "8f0d7eb9",
   "metadata": {},
   "source": [
    "* The revenue for the current period has decreased by approximately 9.39% compared to the previous period. This decrease may be attributed to various factors such as seasonality, economic conditions, or changes in consumer behavior."
   ]
  },
  {
   "cell_type": "markdown",
   "id": "12f28f88",
   "metadata": {},
   "source": [
    "* In APAC Market, Centeral regions and in Consumer segments highest revenue was analyzed"
   ]
  },
  {
   "cell_type": "markdown",
   "id": "c84bd8dd",
   "metadata": {},
   "source": [
    "* Products named\n",
    "~Eureka Disposable Bags for Sanitaire Vibra Gro...\n",
    "~Chromcraft Training Table, Adjustable Height \n",
    "~Bush Westfield Collection Bookcases, Dark Cher...\n",
    "~Euro Pro Shark Stick Mini Vacuum \n",
    "~Chromcraft Coffee Table, Fully Assembled\n",
    "were found to have the lowest profit margin"
   ]
  },
  {
   "cell_type": "markdown",
   "id": "d82684bc",
   "metadata": {},
   "source": [
    "* Products named \n",
    "~Southworth Structures Collection \n",
    "~Xerox 1890 \n",
    "~Tops Green Bar Computer Printout Paper\n",
    "~Avery 475\n",
    "~Canon imageCLASS MF7460 Monochrome Digital Las...\n",
    "were found to have the highest profit margin\n"
   ]
  },
  {
   "cell_type": "markdown",
   "id": "f62c6177",
   "metadata": {},
   "source": [
    "* Customers named\n",
    "~Sean Miller           \n",
    "~Hunter Lopez        \n",
    "~Tom Ashbrook        \n",
    "~Christopher Conant  \n",
    "~Mike Gockenbach \n",
    "had the highest average revenue so they are considered as the most valuable customers."
   ]
  },
  {
   "cell_type": "code",
   "execution_count": null,
   "id": "a5ef911a",
   "metadata": {},
   "outputs": [],
   "source": []
  }
 ],
 "metadata": {
  "kernelspec": {
   "display_name": "Python 3 (ipykernel)",
   "language": "python",
   "name": "python3"
  },
  "language_info": {
   "codemirror_mode": {
    "name": "ipython",
    "version": 3
   },
   "file_extension": ".py",
   "mimetype": "text/x-python",
   "name": "python",
   "nbconvert_exporter": "python",
   "pygments_lexer": "ipython3",
   "version": "3.11.4"
  }
 },
 "nbformat": 4,
 "nbformat_minor": 5
}
